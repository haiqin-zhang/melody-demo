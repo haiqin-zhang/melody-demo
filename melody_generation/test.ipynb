{
 "cells": [
  {
   "cell_type": "code",
   "execution_count": 4,
   "metadata": {},
   "outputs": [],
   "source": [
    "import numpy as np\n",
    "import pandas as pd\n",
    "import pickle\n",
    "import matplotlib.pyplot as plt\n",
    "from music21 import *\n",
    "from generation_functions_pelofi import *\n",
    "from analysis_functions import *"
   ]
  },
  {
   "cell_type": "code",
   "execution_count": 28,
   "metadata": {},
   "outputs": [
    {
     "name": "stdout",
     "output_type": "stream",
     "text": [
      "[['A4', 'E4', 'C4', 'E4', 'G4', 'A3'], ['A4', 'E4', 'G4', 'A3'], ['A4', 'Bb3', 'E4', 'C#4', 'G4', 'A3'], ['A4', 'E4', 'C4', 'G4', 'C#4', 'G4', 'A3'], ['A4', 'Bb3', 'C4', 'E4', 'G4', 'A3'], ['A4', 'Bb3', 'E4', 'G4', 'A3'], ['A4', 'Bb3', 'E4', 'C#4', 'A3'], ['A4', 'Bb3', 'C4', 'G4', 'A3'], ['A4', 'Bb3', 'E4', 'C#4', 'A3'], ['A4', 'E4', 'C#4', 'G4', 'A3']]\n"
     ]
    }
   ],
   "source": [
    "melody_list = markov_melody_highstart(10, matrix_pelofi_high)\n",
    "print(melody_list)"
   ]
  },
  {
   "cell_type": "code",
   "execution_count": 18,
   "metadata": {},
   "outputs": [],
   "source": [
    "def to_midi_interpret_context(setsize, target, context):\n",
    "  \n",
    "  #i = 1\n",
    "  for number in range(1, setsize+1):\n",
    "    target_found = False\n",
    "  #generates the first ('correct') melody\n",
    "    file = open('melody'+str(number)+'.pkl', 'rb')\n",
    "    test_melody = pickle.load(file) #could make a version without pickle but then the melodies can't be stored...\n",
    "\n",
    "    notelengths = [0.5,1,2,4]\n",
    "    \n",
    "    for length in notelengths:\n",
    "      stream_final = stream.Stream()\n",
    "      for i in range(len(test_melody)): \n",
    "        \n",
    "        if test_melody[i] == target and test_melody[i-1] == context:\n",
    "          newnote = note.Note(test_melody[i],  duration = duration.Duration(length))\n",
    "          target_found = True\n",
    "        else:\n",
    "          newnote = note.Note(test_melody[i], duration = duration.Duration(1))\n",
    "        stream_final.append(newnote)\n",
    "        \n",
    "\n",
    "      if target_found == True:\n",
    "        #stream_final.write('midi', 'test_interpret'+str(length)+'_'+str(i)+'.mid')\n",
    "        stream_final.write('midi', 'test_interpret'+str(length)+'.mid')\n",
    "        #i += 1\n",
    "  "
   ]
  },
  {
   "cell_type": "code",
   "execution_count": 27,
   "metadata": {},
   "outputs": [
    {
     "name": "stderr",
     "output_type": "stream",
     "text": [
      "rm: cannot remove 'melody1.pkl': Device or resource busy\n",
      "rm: cannot remove 'melody10.pkl': Device or resource busy\n"
     ]
    }
   ],
   "source": [
    "!rm *mid\n",
    "!rm *pkl"
   ]
  },
  {
   "cell_type": "code",
   "execution_count": 21,
   "metadata": {},
   "outputs": [
    {
     "name": "stdout",
     "output_type": "stream",
     "text": [
      "True\n"
     ]
    }
   ],
   "source": [
    "to_midi_interpret_context(10, 'C4', 'E4')"
   ]
  },
  {
   "cell_type": "code",
   "execution_count": 26,
   "metadata": {},
   "outputs": [],
   "source": [
    "def to_midi_slider_volume(setsize, target, context):\n",
    "  \n",
    "  #i = 1\n",
    "  for number in range(1, setsize+1):\n",
    "    target_found = False\n",
    "  #generates the first ('correct') melody\n",
    "    file = open('melody'+str(number)+'.pkl', 'rb')\n",
    "    test_melody = pickle.load(file) #could make a version without pickle but then the melodies can't be stored...\n",
    "\n",
    "    volumes = [50, 90, 120, 150]\n",
    "    \n",
    "    for level in volumes:\n",
    "      stream_final = stream.Stream()\n",
    "      for i in range(len(test_melody)): \n",
    "        newnote = note.Note(test_melody[i],  duration = duration.Duration(1))\n",
    "        if test_melody[i] == target and test_melody[i-1] == context:\n",
    "          newnote.volume = volume.Volume(velocity=level)\n",
    "          target_found = True\n",
    "        stream_final.append(newnote)\n",
    "        \n",
    "\n",
    "      if target_found == True:\n",
    "        #stream_final.write('midi', 'test_interpret'+str(length)+'_'+str(i)+'.mid')\n",
    "        stream_final.write('midi', 'slider_volume'+str(level)+'.mid')\n",
    "        #i += 1"
   ]
  },
  {
   "cell_type": "code",
   "execution_count": 29,
   "metadata": {},
   "outputs": [],
   "source": [
    "to_midi_slider_volume(10, 'C4', 'E4')"
   ]
  }
 ],
 "metadata": {
  "kernelspec": {
   "display_name": "Python 3.8.8 ('base')",
   "language": "python",
   "name": "python3"
  },
  "language_info": {
   "codemirror_mode": {
    "name": "ipython",
    "version": 3
   },
   "file_extension": ".py",
   "mimetype": "text/x-python",
   "name": "python",
   "nbconvert_exporter": "python",
   "pygments_lexer": "ipython3",
   "version": "3.8.8"
  },
  "orig_nbformat": 4,
  "vscode": {
   "interpreter": {
    "hash": "1b5e399702ec9fc1ed9bbf835e56b9a1cc0082e11b2b154e8fc70a9e022b7825"
   }
  }
 },
 "nbformat": 4,
 "nbformat_minor": 2
}
